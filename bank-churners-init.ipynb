{
 "cells": [
  {
   "cell_type": "markdown",
   "id": "fa66a9c9",
   "metadata": {
    "papermill": {
     "duration": 0.014153,
     "end_time": "2023-04-29T13:29:31.248114",
     "exception": false,
     "start_time": "2023-04-29T13:29:31.233961",
     "status": "completed"
    },
    "tags": []
   },
   "source": [
    "# Analítica computacional para la toma de decisiones\n",
    "\n",
    "Departamento de Ingeniería Industrial\n",
    "\n",
    "Universidad de los Andes"
   ]
  },
  {
   "cell_type": "markdown",
   "id": "83f39106",
   "metadata": {},
   "source": [
    "## Exploración de datos en python"
   ]
  },
  {
   "cell_type": "markdown",
   "id": "f9418b2a",
   "metadata": {
    "papermill": {
     "duration": 0.012662,
     "end_time": "2023-04-29T13:29:31.273772",
     "exception": false,
     "start_time": "2023-04-29T13:29:31.261110",
     "status": "completed"
    },
    "tags": []
   },
   "source": [
    "### Importar Libraries"
   ]
  },
  {
   "cell_type": "code",
   "execution_count": 2,
   "id": "f98d0106",
   "metadata": {
    "execution": {
     "iopub.execute_input": "2023-04-29T13:29:31.302138Z",
     "iopub.status.busy": "2023-04-29T13:29:31.301405Z",
     "iopub.status.idle": "2023-04-29T13:29:33.164112Z",
     "shell.execute_reply": "2023-04-29T13:29:33.162399Z"
    },
    "papermill": {
     "duration": 1.880783,
     "end_time": "2023-04-29T13:29:33.167438",
     "exception": false,
     "start_time": "2023-04-29T13:29:31.286655",
     "status": "completed"
    },
    "tags": []
   },
   "outputs": [],
   "source": [
    "import numpy as np\n",
    "import pandas as pd"
   ]
  },
  {
   "cell_type": "markdown",
   "id": "65f164b0",
   "metadata": {
    "papermill": {
     "duration": 0.013005,
     "end_time": "2023-04-29T13:29:33.195383",
     "exception": false,
     "start_time": "2023-04-29T13:29:33.182378",
     "status": "completed"
    },
    "tags": []
   },
   "source": [
    "### Importar Dataset"
   ]
  },
  {
   "cell_type": "code",
   "execution_count": 3,
   "id": "a9a7ce94",
   "metadata": {},
   "outputs": [],
   "source": [
    "df = pd.read_csv('.\\\\BikePrices.csv')\n"
   ]
  },
  {
   "cell_type": "code",
   "execution_count": 4,
   "id": "159cc7e7",
   "metadata": {},
   "outputs": [
    {
     "data": {
      "text/plain": [
       "(1061, 8)"
      ]
     },
     "execution_count": 4,
     "metadata": {},
     "output_type": "execute_result"
    }
   ],
   "source": [
    "df.shape"
   ]
  },
  {
   "cell_type": "code",
   "execution_count": 5,
   "id": "b3afe95d",
   "metadata": {},
   "outputs": [
    {
     "data": {
      "text/html": [
       "<div>\n",
       "<style scoped>\n",
       "    .dataframe tbody tr th:only-of-type {\n",
       "        vertical-align: middle;\n",
       "    }\n",
       "\n",
       "    .dataframe tbody tr th {\n",
       "        vertical-align: top;\n",
       "    }\n",
       "\n",
       "    .dataframe thead th {\n",
       "        text-align: right;\n",
       "    }\n",
       "</style>\n",
       "<table border=\"1\" class=\"dataframe\">\n",
       "  <thead>\n",
       "    <tr style=\"text-align: right;\">\n",
       "      <th></th>\n",
       "      <th>Brand</th>\n",
       "      <th>Model</th>\n",
       "      <th>Selling_Price</th>\n",
       "      <th>Year</th>\n",
       "      <th>Seller_Type</th>\n",
       "      <th>Owner</th>\n",
       "      <th>KM_Driven</th>\n",
       "      <th>Ex_Showroom_Price</th>\n",
       "    </tr>\n",
       "  </thead>\n",
       "  <tbody>\n",
       "    <tr>\n",
       "      <th>0</th>\n",
       "      <td>TVS</td>\n",
       "      <td>TVS XL 100</td>\n",
       "      <td>30000</td>\n",
       "      <td>2017</td>\n",
       "      <td>Individual</td>\n",
       "      <td>1st owner</td>\n",
       "      <td>8000</td>\n",
       "      <td>30490.0</td>\n",
       "    </tr>\n",
       "    <tr>\n",
       "      <th>1</th>\n",
       "      <td>Bajaj</td>\n",
       "      <td>Bajaj  ct 100</td>\n",
       "      <td>18000</td>\n",
       "      <td>2017</td>\n",
       "      <td>Individual</td>\n",
       "      <td>1st owner</td>\n",
       "      <td>35000</td>\n",
       "      <td>32000.0</td>\n",
       "    </tr>\n",
       "    <tr>\n",
       "      <th>2</th>\n",
       "      <td>Yo</td>\n",
       "      <td>Yo Style</td>\n",
       "      <td>20000</td>\n",
       "      <td>2011</td>\n",
       "      <td>Individual</td>\n",
       "      <td>1st owner</td>\n",
       "      <td>10000</td>\n",
       "      <td>37675.0</td>\n",
       "    </tr>\n",
       "    <tr>\n",
       "      <th>3</th>\n",
       "      <td>Bajaj</td>\n",
       "      <td>Bajaj Discover 100</td>\n",
       "      <td>25000</td>\n",
       "      <td>2010</td>\n",
       "      <td>Individual</td>\n",
       "      <td>1st owner</td>\n",
       "      <td>43000</td>\n",
       "      <td>42859.0</td>\n",
       "    </tr>\n",
       "    <tr>\n",
       "      <th>4</th>\n",
       "      <td>Bajaj</td>\n",
       "      <td>Bajaj Discover 100</td>\n",
       "      <td>24999</td>\n",
       "      <td>2012</td>\n",
       "      <td>Individual</td>\n",
       "      <td>2nd owner</td>\n",
       "      <td>35000</td>\n",
       "      <td>42859.0</td>\n",
       "    </tr>\n",
       "  </tbody>\n",
       "</table>\n",
       "</div>"
      ],
      "text/plain": [
       "   Brand               Model  Selling_Price  Year Seller_Type      Owner  \\\n",
       "0    TVS          TVS XL 100          30000  2017  Individual  1st owner   \n",
       "1  Bajaj       Bajaj  ct 100          18000  2017  Individual  1st owner   \n",
       "2     Yo            Yo Style          20000  2011  Individual  1st owner   \n",
       "3  Bajaj  Bajaj Discover 100          25000  2010  Individual  1st owner   \n",
       "4  Bajaj  Bajaj Discover 100          24999  2012  Individual  2nd owner   \n",
       "\n",
       "   KM_Driven  Ex_Showroom_Price  \n",
       "0       8000            30490.0  \n",
       "1      35000            32000.0  \n",
       "2      10000            37675.0  \n",
       "3      43000            42859.0  \n",
       "4      35000            42859.0  "
      ]
     },
     "execution_count": 5,
     "metadata": {},
     "output_type": "execute_result"
    }
   ],
   "source": [
    "df.head()"
   ]
  },
  {
   "cell_type": "code",
   "execution_count": 6,
   "id": "5b81bf5f",
   "metadata": {},
   "outputs": [
    {
     "data": {
      "text/plain": [
       "array(['1st owner', '2nd owner', '3rd owner', '4th owner'], dtype=object)"
      ]
     },
     "execution_count": 6,
     "metadata": {},
     "output_type": "execute_result"
    }
   ],
   "source": [
    "df[\"Owner\"].unique()"
   ]
  },
  {
   "cell_type": "code",
   "execution_count": 7,
   "id": "96f27a7e",
   "metadata": {},
   "outputs": [
    {
     "data": {
      "text/html": [
       "<div>\n",
       "<style scoped>\n",
       "    .dataframe tbody tr th:only-of-type {\n",
       "        vertical-align: middle;\n",
       "    }\n",
       "\n",
       "    .dataframe tbody tr th {\n",
       "        vertical-align: top;\n",
       "    }\n",
       "\n",
       "    .dataframe thead th {\n",
       "        text-align: right;\n",
       "    }\n",
       "</style>\n",
       "<table border=\"1\" class=\"dataframe\">\n",
       "  <thead>\n",
       "    <tr style=\"text-align: right;\">\n",
       "      <th></th>\n",
       "      <th>Model</th>\n",
       "      <th>Selling_Price</th>\n",
       "      <th>Year</th>\n",
       "      <th>Seller_Type</th>\n",
       "      <th>Owner</th>\n",
       "      <th>KM_Driven</th>\n",
       "      <th>Ex_Showroom_Price</th>\n",
       "    </tr>\n",
       "    <tr>\n",
       "      <th>Brand</th>\n",
       "      <th></th>\n",
       "      <th></th>\n",
       "      <th></th>\n",
       "      <th></th>\n",
       "      <th></th>\n",
       "      <th></th>\n",
       "      <th></th>\n",
       "    </tr>\n",
       "  </thead>\n",
       "  <tbody>\n",
       "    <tr>\n",
       "      <th>Activa</th>\n",
       "      <td>3</td>\n",
       "      <td>3</td>\n",
       "      <td>3</td>\n",
       "      <td>3</td>\n",
       "      <td>3</td>\n",
       "      <td>3</td>\n",
       "      <td>3</td>\n",
       "    </tr>\n",
       "    <tr>\n",
       "      <th>Aprilia</th>\n",
       "      <td>2</td>\n",
       "      <td>2</td>\n",
       "      <td>2</td>\n",
       "      <td>2</td>\n",
       "      <td>2</td>\n",
       "      <td>2</td>\n",
       "      <td>0</td>\n",
       "    </tr>\n",
       "    <tr>\n",
       "      <th>BMW</th>\n",
       "      <td>1</td>\n",
       "      <td>1</td>\n",
       "      <td>1</td>\n",
       "      <td>1</td>\n",
       "      <td>1</td>\n",
       "      <td>1</td>\n",
       "      <td>1</td>\n",
       "    </tr>\n",
       "    <tr>\n",
       "      <th>Bajaj</th>\n",
       "      <td>260</td>\n",
       "      <td>260</td>\n",
       "      <td>260</td>\n",
       "      <td>260</td>\n",
       "      <td>260</td>\n",
       "      <td>260</td>\n",
       "      <td>143</td>\n",
       "    </tr>\n",
       "    <tr>\n",
       "      <th>Benelli</th>\n",
       "      <td>1</td>\n",
       "      <td>1</td>\n",
       "      <td>1</td>\n",
       "      <td>1</td>\n",
       "      <td>1</td>\n",
       "      <td>1</td>\n",
       "      <td>1</td>\n",
       "    </tr>\n",
       "    <tr>\n",
       "      <th>Harley</th>\n",
       "      <td>2</td>\n",
       "      <td>2</td>\n",
       "      <td>2</td>\n",
       "      <td>2</td>\n",
       "      <td>2</td>\n",
       "      <td>2</td>\n",
       "      <td>2</td>\n",
       "    </tr>\n",
       "    <tr>\n",
       "      <th>Hero</th>\n",
       "      <td>232</td>\n",
       "      <td>232</td>\n",
       "      <td>232</td>\n",
       "      <td>232</td>\n",
       "      <td>232</td>\n",
       "      <td>232</td>\n",
       "      <td>108</td>\n",
       "    </tr>\n",
       "    <tr>\n",
       "      <th>Honda</th>\n",
       "      <td>204</td>\n",
       "      <td>204</td>\n",
       "      <td>204</td>\n",
       "      <td>204</td>\n",
       "      <td>204</td>\n",
       "      <td>204</td>\n",
       "      <td>170</td>\n",
       "    </tr>\n",
       "    <tr>\n",
       "      <th>Hyosung</th>\n",
       "      <td>1</td>\n",
       "      <td>1</td>\n",
       "      <td>1</td>\n",
       "      <td>1</td>\n",
       "      <td>1</td>\n",
       "      <td>1</td>\n",
       "      <td>1</td>\n",
       "    </tr>\n",
       "    <tr>\n",
       "      <th>Jawa</th>\n",
       "      <td>3</td>\n",
       "      <td>3</td>\n",
       "      <td>3</td>\n",
       "      <td>3</td>\n",
       "      <td>3</td>\n",
       "      <td>3</td>\n",
       "      <td>0</td>\n",
       "    </tr>\n",
       "    <tr>\n",
       "      <th>KTM</th>\n",
       "      <td>24</td>\n",
       "      <td>24</td>\n",
       "      <td>24</td>\n",
       "      <td>24</td>\n",
       "      <td>24</td>\n",
       "      <td>24</td>\n",
       "      <td>6</td>\n",
       "    </tr>\n",
       "    <tr>\n",
       "      <th>Kawasaki</th>\n",
       "      <td>4</td>\n",
       "      <td>4</td>\n",
       "      <td>4</td>\n",
       "      <td>4</td>\n",
       "      <td>4</td>\n",
       "      <td>4</td>\n",
       "      <td>4</td>\n",
       "    </tr>\n",
       "    <tr>\n",
       "      <th>Mahindra</th>\n",
       "      <td>6</td>\n",
       "      <td>6</td>\n",
       "      <td>6</td>\n",
       "      <td>6</td>\n",
       "      <td>6</td>\n",
       "      <td>6</td>\n",
       "      <td>6</td>\n",
       "    </tr>\n",
       "    <tr>\n",
       "      <th>Royal</th>\n",
       "      <td>109</td>\n",
       "      <td>109</td>\n",
       "      <td>109</td>\n",
       "      <td>109</td>\n",
       "      <td>109</td>\n",
       "      <td>109</td>\n",
       "      <td>40</td>\n",
       "    </tr>\n",
       "    <tr>\n",
       "      <th>Suzuki</th>\n",
       "      <td>30</td>\n",
       "      <td>30</td>\n",
       "      <td>30</td>\n",
       "      <td>30</td>\n",
       "      <td>30</td>\n",
       "      <td>30</td>\n",
       "      <td>18</td>\n",
       "    </tr>\n",
       "    <tr>\n",
       "      <th>TVS</th>\n",
       "      <td>69</td>\n",
       "      <td>69</td>\n",
       "      <td>69</td>\n",
       "      <td>69</td>\n",
       "      <td>69</td>\n",
       "      <td>69</td>\n",
       "      <td>23</td>\n",
       "    </tr>\n",
       "    <tr>\n",
       "      <th>UM</th>\n",
       "      <td>3</td>\n",
       "      <td>3</td>\n",
       "      <td>3</td>\n",
       "      <td>3</td>\n",
       "      <td>3</td>\n",
       "      <td>3</td>\n",
       "      <td>3</td>\n",
       "    </tr>\n",
       "    <tr>\n",
       "      <th>Vespa</th>\n",
       "      <td>4</td>\n",
       "      <td>4</td>\n",
       "      <td>4</td>\n",
       "      <td>4</td>\n",
       "      <td>4</td>\n",
       "      <td>4</td>\n",
       "      <td>2</td>\n",
       "    </tr>\n",
       "    <tr>\n",
       "      <th>Yamaha</th>\n",
       "      <td>102</td>\n",
       "      <td>102</td>\n",
       "      <td>102</td>\n",
       "      <td>102</td>\n",
       "      <td>102</td>\n",
       "      <td>102</td>\n",
       "      <td>94</td>\n",
       "    </tr>\n",
       "    <tr>\n",
       "      <th>Yo</th>\n",
       "      <td>1</td>\n",
       "      <td>1</td>\n",
       "      <td>1</td>\n",
       "      <td>1</td>\n",
       "      <td>1</td>\n",
       "      <td>1</td>\n",
       "      <td>1</td>\n",
       "    </tr>\n",
       "  </tbody>\n",
       "</table>\n",
       "</div>"
      ],
      "text/plain": [
       "          Model  Selling_Price  Year  Seller_Type  Owner  KM_Driven  \\\n",
       "Brand                                                                 \n",
       "Activa        3              3     3            3      3          3   \n",
       "Aprilia       2              2     2            2      2          2   \n",
       "BMW           1              1     1            1      1          1   \n",
       "Bajaj       260            260   260          260    260        260   \n",
       "Benelli       1              1     1            1      1          1   \n",
       "Harley        2              2     2            2      2          2   \n",
       "Hero        232            232   232          232    232        232   \n",
       "Honda       204            204   204          204    204        204   \n",
       "Hyosung       1              1     1            1      1          1   \n",
       "Jawa          3              3     3            3      3          3   \n",
       "KTM          24             24    24           24     24         24   \n",
       "Kawasaki      4              4     4            4      4          4   \n",
       "Mahindra      6              6     6            6      6          6   \n",
       "Royal       109            109   109          109    109        109   \n",
       "Suzuki       30             30    30           30     30         30   \n",
       "TVS          69             69    69           69     69         69   \n",
       "UM            3              3     3            3      3          3   \n",
       "Vespa         4              4     4            4      4          4   \n",
       "Yamaha      102            102   102          102    102        102   \n",
       "Yo            1              1     1            1      1          1   \n",
       "\n",
       "          Ex_Showroom_Price  \n",
       "Brand                        \n",
       "Activa                    3  \n",
       "Aprilia                   0  \n",
       "BMW                       1  \n",
       "Bajaj                   143  \n",
       "Benelli                   1  \n",
       "Harley                    2  \n",
       "Hero                    108  \n",
       "Honda                   170  \n",
       "Hyosung                   1  \n",
       "Jawa                      0  \n",
       "KTM                       6  \n",
       "Kawasaki                  4  \n",
       "Mahindra                  6  \n",
       "Royal                    40  \n",
       "Suzuki                   18  \n",
       "TVS                      23  \n",
       "UM                        3  \n",
       "Vespa                     2  \n",
       "Yamaha                   94  \n",
       "Yo                        1  "
      ]
     },
     "execution_count": 7,
     "metadata": {},
     "output_type": "execute_result"
    }
   ],
   "source": [
    "df.groupby([\"Brand\"]).count()"
   ]
  },
  {
   "cell_type": "code",
   "execution_count": 8,
   "id": "64dfce41",
   "metadata": {},
   "outputs": [
    {
     "data": {
      "text/plain": [
       "Brand\n",
       "Bajaj       260\n",
       "Hero        232\n",
       "Honda       204\n",
       "Royal       109\n",
       "Yamaha      102\n",
       "TVS          69\n",
       "Suzuki       30\n",
       "KTM          24\n",
       "Mahindra      6\n",
       "Kawasaki      4\n",
       "Vespa         4\n",
       "UM            3\n",
       "Jawa          3\n",
       "Activa        3\n",
       "Harley        2\n",
       "Aprilia       2\n",
       "Yo            1\n",
       "Benelli       1\n",
       "Hyosung       1\n",
       "BMW           1\n",
       "Name: count, dtype: int64"
      ]
     },
     "execution_count": 8,
     "metadata": {},
     "output_type": "execute_result"
    }
   ],
   "source": [
    "df[\"Brand\"].value_counts()"
   ]
  },
  {
   "cell_type": "code",
   "execution_count": 9,
   "id": "bd5524f1",
   "metadata": {
    "execution": {
     "iopub.execute_input": "2023-04-29T13:29:33.485637Z",
     "iopub.status.busy": "2023-04-29T13:29:33.485220Z",
     "iopub.status.idle": "2023-04-29T13:29:33.559629Z",
     "shell.execute_reply": "2023-04-29T13:29:33.558343Z"
    },
    "papermill": {
     "duration": 0.091931,
     "end_time": "2023-04-29T13:29:33.562112",
     "exception": false,
     "start_time": "2023-04-29T13:29:33.470181",
     "status": "completed"
    },
    "tags": []
   },
   "outputs": [
    {
     "data": {
      "text/html": [
       "<div>\n",
       "<style scoped>\n",
       "    .dataframe tbody tr th:only-of-type {\n",
       "        vertical-align: middle;\n",
       "    }\n",
       "\n",
       "    .dataframe tbody tr th {\n",
       "        vertical-align: top;\n",
       "    }\n",
       "\n",
       "    .dataframe thead th {\n",
       "        text-align: right;\n",
       "    }\n",
       "</style>\n",
       "<table border=\"1\" class=\"dataframe\">\n",
       "  <thead>\n",
       "    <tr style=\"text-align: right;\">\n",
       "      <th></th>\n",
       "      <th>Selling_Price</th>\n",
       "      <th>Year</th>\n",
       "      <th>KM_Driven</th>\n",
       "      <th>Ex_Showroom_Price</th>\n",
       "    </tr>\n",
       "  </thead>\n",
       "  <tbody>\n",
       "    <tr>\n",
       "      <th>count</th>\n",
       "      <td>1061.000000</td>\n",
       "      <td>1061.000000</td>\n",
       "      <td>1061.000000</td>\n",
       "      <td>6.260000e+02</td>\n",
       "    </tr>\n",
       "    <tr>\n",
       "      <th>mean</th>\n",
       "      <td>59638.151744</td>\n",
       "      <td>2013.867107</td>\n",
       "      <td>34359.833176</td>\n",
       "      <td>8.795871e+04</td>\n",
       "    </tr>\n",
       "    <tr>\n",
       "      <th>std</th>\n",
       "      <td>56304.291973</td>\n",
       "      <td>4.301191</td>\n",
       "      <td>51623.152702</td>\n",
       "      <td>7.749659e+04</td>\n",
       "    </tr>\n",
       "    <tr>\n",
       "      <th>min</th>\n",
       "      <td>5000.000000</td>\n",
       "      <td>1988.000000</td>\n",
       "      <td>350.000000</td>\n",
       "      <td>3.049000e+04</td>\n",
       "    </tr>\n",
       "    <tr>\n",
       "      <th>25%</th>\n",
       "      <td>28000.000000</td>\n",
       "      <td>2011.000000</td>\n",
       "      <td>13500.000000</td>\n",
       "      <td>5.485200e+04</td>\n",
       "    </tr>\n",
       "    <tr>\n",
       "      <th>50%</th>\n",
       "      <td>45000.000000</td>\n",
       "      <td>2015.000000</td>\n",
       "      <td>25000.000000</td>\n",
       "      <td>7.275250e+04</td>\n",
       "    </tr>\n",
       "    <tr>\n",
       "      <th>75%</th>\n",
       "      <td>70000.000000</td>\n",
       "      <td>2017.000000</td>\n",
       "      <td>43000.000000</td>\n",
       "      <td>8.703150e+04</td>\n",
       "    </tr>\n",
       "    <tr>\n",
       "      <th>max</th>\n",
       "      <td>760000.000000</td>\n",
       "      <td>2020.000000</td>\n",
       "      <td>880000.000000</td>\n",
       "      <td>1.278000e+06</td>\n",
       "    </tr>\n",
       "  </tbody>\n",
       "</table>\n",
       "</div>"
      ],
      "text/plain": [
       "       Selling_Price         Year      KM_Driven  Ex_Showroom_Price\n",
       "count    1061.000000  1061.000000    1061.000000       6.260000e+02\n",
       "mean    59638.151744  2013.867107   34359.833176       8.795871e+04\n",
       "std     56304.291973     4.301191   51623.152702       7.749659e+04\n",
       "min      5000.000000  1988.000000     350.000000       3.049000e+04\n",
       "25%     28000.000000  2011.000000   13500.000000       5.485200e+04\n",
       "50%     45000.000000  2015.000000   25000.000000       7.275250e+04\n",
       "75%     70000.000000  2017.000000   43000.000000       8.703150e+04\n",
       "max    760000.000000  2020.000000  880000.000000       1.278000e+06"
      ]
     },
     "execution_count": 9,
     "metadata": {},
     "output_type": "execute_result"
    }
   ],
   "source": [
    "df.describe()"
   ]
  },
  {
   "cell_type": "code",
   "execution_count": 10,
   "id": "d0cb1e7d",
   "metadata": {
    "execution": {
     "iopub.execute_input": "2023-04-29T13:29:33.592783Z",
     "iopub.status.busy": "2023-04-29T13:29:33.591751Z",
     "iopub.status.idle": "2023-04-29T13:29:33.623691Z",
     "shell.execute_reply": "2023-04-29T13:29:33.622299Z"
    },
    "papermill": {
     "duration": 0.050668,
     "end_time": "2023-04-29T13:29:33.626754",
     "exception": false,
     "start_time": "2023-04-29T13:29:33.576086",
     "status": "completed"
    },
    "tags": []
   },
   "outputs": [
    {
     "name": "stdout",
     "output_type": "stream",
     "text": [
      "Churn Rate = 47.2%\n"
     ]
    }
   ],
   "source": [
    "# número de clientes perdido y no perdidosn\n",
    "counts = df.Brand.value_counts()\n",
    "perc_churn = (counts.iloc[1] / (counts.iloc[0] + counts.iloc[1])) * 100\n",
    "print(f'Churn Rate = {perc_churn:.1f}%')"
   ]
  },
  {
   "cell_type": "code",
   "execution_count": 11,
   "id": "9c9b6978",
   "metadata": {
    "execution": {
     "iopub.execute_input": "2023-04-29T13:29:33.656790Z",
     "iopub.status.busy": "2023-04-29T13:29:33.656369Z",
     "iopub.status.idle": "2023-04-29T13:29:33.665202Z",
     "shell.execute_reply": "2023-04-29T13:29:33.663940Z"
    },
    "papermill": {
     "duration": 0.027655,
     "end_time": "2023-04-29T13:29:33.668416",
     "exception": false,
     "start_time": "2023-04-29T13:29:33.640761",
     "status": "completed"
    },
    "tags": []
   },
   "outputs": [
    {
     "name": "stdout",
     "output_type": "stream",
     "text": [
      "Number of Duplicate Entries: 6\n"
     ]
    }
   ],
   "source": [
    "# número de duplicados\n",
    "duplicates = len(df[df.duplicated()])\n",
    "print(f'Number of Duplicate Entries: {duplicates}')"
   ]
  },
  {
   "cell_type": "code",
   "execution_count": 12,
   "id": "154d0dfc",
   "metadata": {},
   "outputs": [
    {
     "name": "stdout",
     "output_type": "stream",
     "text": [
      "     Brand                     Model  Selling_Price  Year Seller_Type  \\\n",
      "66   Honda  Honda Activa [2000-2015]          23000  2009  Individual   \n",
      "266  Bajaj       Bajaj Pulsar 135 LS          20000  2010  Individual   \n",
      "460   Hero  Hero Karizma [2003-2014]          50000  2013  Individual   \n",
      "479  Honda      Honda CB Hornet 160R          70000  2017  Individual   \n",
      "724    TVS     TVS Apache RTR 200 4V          95000  2018  Individual   \n",
      "854  Bajaj         Bajaj Platina 100          20000  2012  Individual   \n",
      "\n",
      "         Owner  KM_Driven  Ex_Showroom_Price  \n",
      "66   1st owner      95000            50267.0  \n",
      "266  1st owner      80000            64589.0  \n",
      "460  1st owner      38000            85766.0  \n",
      "479  1st owner      35000            87719.0  \n",
      "724  1st owner       9600                NaN  \n",
      "854  1st owner      16295                NaN  \n"
     ]
    }
   ],
   "source": [
    "ff=df[df.duplicated]\n",
    "print(ff)"
   ]
  },
  {
   "cell_type": "code",
   "execution_count": 13,
   "id": "08cb1c04",
   "metadata": {},
   "outputs": [
    {
     "name": "stdout",
     "output_type": "stream",
     "text": [
      "Number of Missing Values: 435\n"
     ]
    }
   ],
   "source": [
    "# número de valores perdidos\n",
    "missing_values = df.isnull().sum().sum()\n",
    "print(f'Number of Missing Values: {missing_values}')"
   ]
  },
  {
   "cell_type": "code",
   "execution_count": 14,
   "id": "e7522be8",
   "metadata": {},
   "outputs": [
    {
     "name": "stdout",
     "output_type": "stream",
     "text": [
      "Number of Features: 8\n",
      "Number of Customers: 1061\n",
      "Data Types and Frequency in Dataset:\n",
      "Brand                 object\n",
      "Model                 object\n",
      "Selling_Price          int64\n",
      "Year                   int64\n",
      "Seller_Type           object\n",
      "Owner                 object\n",
      "KM_Driven              int64\n",
      "Ex_Showroom_Price    float64\n",
      "dtype: object\n"
     ]
    }
   ],
   "source": [
    "# Tipos de datos en el dataset\n",
    "types = df.dtypes#.value_counts()\n",
    "\n",
    "print('Number of Features: %d'%(df.shape[1]))\n",
    "print('Number of Customers: %d'%(df.shape[0]))\n",
    "print('Data Types and Frequency in Dataset:')\n",
    "print(types)"
   ]
  },
  {
   "cell_type": "markdown",
   "id": "0d9f525f",
   "metadata": {
    "papermill": {
     "duration": 0.020854,
     "end_time": "2023-04-29T13:29:37.075271",
     "exception": false,
     "start_time": "2023-04-29T13:29:37.054417",
     "status": "completed"
    },
    "tags": []
   },
   "source": [
    "## Pre-Processing"
   ]
  },
  {
   "cell_type": "code",
   "execution_count": 15,
   "id": "9ba36a48",
   "metadata": {
    "execution": {
     "iopub.execute_input": "2023-04-29T13:29:37.118344Z",
     "iopub.status.busy": "2023-04-29T13:29:37.117891Z",
     "iopub.status.idle": "2023-04-29T13:29:37.215869Z",
     "shell.execute_reply": "2023-04-29T13:29:37.214861Z"
    },
    "papermill": {
     "duration": 0.122753,
     "end_time": "2023-04-29T13:29:37.218672",
     "exception": false,
     "start_time": "2023-04-29T13:29:37.095919",
     "status": "completed"
    },
    "tags": []
   },
   "outputs": [
    {
     "name": "stdout",
     "output_type": "stream",
     "text": [
      "      Brand                      Model  Selling_Price  Year Seller_Type  \\\n",
      "0       TVS                 TVS XL 100          30000  2017  Individual   \n",
      "1     Bajaj              Bajaj  ct 100          18000  2017  Individual   \n",
      "2        Yo                   Yo Style          20000  2011  Individual   \n",
      "3     Bajaj         Bajaj Discover 100          25000  2010  Individual   \n",
      "4     Bajaj         Bajaj Discover 100          24999  2012  Individual   \n",
      "...     ...                        ...            ...   ...         ...   \n",
      "1056  Royal  Royal Enfield Electra 5 S          90000  2012  Individual   \n",
      "1057   Hero            Hero Honda Hunk          20000  2010  Individual   \n",
      "1058  Bajaj     Bajaj Pulsar 220 DTS-i          60000  2014  Individual   \n",
      "1059   Hero     Hero Honda CBZ extreme          40000  2009  Individual   \n",
      "1060   Hero     Hero Honda CBZ extreme          35000  2012  Individual   \n",
      "\n",
      "      Owner  KM_Driven  Ex_Showroom_Price  \n",
      "0       1.0       8000            30490.0  \n",
      "1       1.0      35000            32000.0  \n",
      "2       1.0      10000            37675.0  \n",
      "3       1.0      43000            42859.0  \n",
      "4       2.0      35000            42859.0  \n",
      "...     ...        ...                ...  \n",
      "1056    1.0      40000                NaN  \n",
      "1057    1.0      17000                NaN  \n",
      "1058    1.0      16000                NaN  \n",
      "1059    1.0      50000                NaN  \n",
      "1060    1.0      60000                NaN  \n",
      "\n",
      "[1061 rows x 8 columns]\n"
     ]
    }
   ],
   "source": [
    "# Conversión de características\n",
    "df['Owner'] = df['Owner'].map({'1st owner': 1, '2nd owner': 2 , '3th owner': 3 , '4th owner': 4})\n",
    "print(df)"
   ]
  },
  {
   "cell_type": "code",
   "execution_count": 16,
   "id": "1f45060c",
   "metadata": {},
   "outputs": [
    {
     "name": "stdout",
     "output_type": "stream",
     "text": [
      "New Number of Features: 306\n"
     ]
    }
   ],
   "source": [
    "catcols = df.select_dtypes(exclude = ['int64','float64']).columns\n",
    "intcols = df.select_dtypes(include = ['int64']).columns\n",
    "floatcols = df.select_dtypes(include = ['float64']).columns\n",
    "\n",
    "# codificación \n",
    "df = pd.get_dummies(df, columns = catcols)\n",
    "   \n",
    "print('New Number of Features: %d'%(df.shape[1]))  "
   ]
  },
  {
   "cell_type": "code",
   "execution_count": 17,
   "id": "d61a0866",
   "metadata": {},
   "outputs": [
    {
     "data": {
      "image/png": "[encoded data removed]",
      "text/plain": [
       "<Figure size 800x600 with 1 Axes>"
      ]
     },
     "metadata": {},
     "output_type": "display_data"
    }
   ],
   "source": [
    "import matplotlib.pyplot as plt\n",
    "\n",
    "plt.figure(figsize=(8, 6))  \n",
    "plt.hist(df['Selling_Price'], bins=20, color='green', edgecolor='black')  \n",
    "plt.title('Distribución precio de venta') \n",
    "plt.xlabel('Precio de venta') \n",
    "plt.ylabel('Frecuencia')  \n",
    "plt.show()  \n"
   ]
  }
 ],
 "metadata": {
  "kernelspec": {
   "display_name": "Python 3",
   "language": "python",
   "name": "python3"
  },
  "language_info": {
   "codemirror_mode": {
    "name": "ipython",
    "version": 3
   },
   "file_extension": ".py",
   "mimetype": "text/x-python",
   "name": "python",
   "nbconvert_exporter": "python",
   "pygments_lexer": "ipython3",
   "version": "3.11.9"
  },
  "papermill": {
   "default_parameters": {},
   "duration": 148.559691,
   "end_time": "2023-04-29T13:31:48.779871",
   "environment_variables": {},
   "exception": null,
   "input_path": "__notebook__.ipynb",
   "output_path": "__notebook__.ipynb",
   "parameters": {},
   "start_time": "2023-04-29T13:29:20.220180",
   "version": "2.4.0"
  }
 },
 "nbformat": 4,
 "nbformat_minor": 5
}
